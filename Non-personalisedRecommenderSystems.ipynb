{
 "cells": [
  {
   "cell_type": "code",
   "execution_count": 1,
   "id": "530e9f64",
   "metadata": {},
   "outputs": [
    {
     "data": {
      "text/html": [
       "<div>\n",
       "<style scoped>\n",
       "    .dataframe tbody tr th:only-of-type {\n",
       "        vertical-align: middle;\n",
       "    }\n",
       "\n",
       "    .dataframe tbody tr th {\n",
       "        vertical-align: top;\n",
       "    }\n",
       "\n",
       "    .dataframe thead th {\n",
       "        text-align: right;\n",
       "    }\n",
       "</style>\n",
       "<table border=\"1\" class=\"dataframe\">\n",
       "  <thead>\n",
       "    <tr style=\"text-align: right;\">\n",
       "      <th></th>\n",
       "      <th>user_id</th>\n",
       "      <th>book_id</th>\n",
       "      <th>rating</th>\n",
       "    </tr>\n",
       "  </thead>\n",
       "  <tbody>\n",
       "    <tr>\n",
       "      <th>0</th>\n",
       "      <td>1</td>\n",
       "      <td>258</td>\n",
       "      <td>5</td>\n",
       "    </tr>\n",
       "    <tr>\n",
       "      <th>1</th>\n",
       "      <td>2</td>\n",
       "      <td>4081</td>\n",
       "      <td>4</td>\n",
       "    </tr>\n",
       "    <tr>\n",
       "      <th>2</th>\n",
       "      <td>2</td>\n",
       "      <td>260</td>\n",
       "      <td>5</td>\n",
       "    </tr>\n",
       "    <tr>\n",
       "      <th>3</th>\n",
       "      <td>2</td>\n",
       "      <td>9296</td>\n",
       "      <td>5</td>\n",
       "    </tr>\n",
       "    <tr>\n",
       "      <th>4</th>\n",
       "      <td>2</td>\n",
       "      <td>2318</td>\n",
       "      <td>3</td>\n",
       "    </tr>\n",
       "  </tbody>\n",
       "</table>\n",
       "</div>"
      ],
      "text/plain": [
       "   user_id  book_id  rating\n",
       "0        1      258       5\n",
       "1        2     4081       4\n",
       "2        2      260       5\n",
       "3        2     9296       5\n",
       "4        2     2318       3"
      ]
     },
     "execution_count": 1,
     "metadata": {},
     "output_type": "execute_result"
    }
   ],
   "source": [
    "import pandas as pd\n",
    "\n",
    "url = 'https://raw.githubusercontent.com/zygmuntz/goodbooks-10k/master/ratings.csv'\n",
    "ratings = pd.read_csv(url)\n",
    "\n",
    "ratings.head()"
   ]
  },
  {
   "cell_type": "code",
   "execution_count": 3,
   "id": "e155d865",
   "metadata": {},
   "outputs": [],
   "source": [
    "def compute_damped_mean(ratings, damping_factor=5):\n",
    "    global_mean = ratings['rating'].mean()\n",
    "    item_stats = ratings.groupby('book_id')['rating'].agg(['count', 'mean'])\n",
    "    \n",
    "    item_stats['damped_mean'] = (\n",
    "        (item_stats['count'] * item_stats['mean'] + damping_factor * global_mean) /\n",
    "        (item_stats['count'] + damping_factor)\n",
    "    )\n",
    "    return item_stats[['damped_mean']].sort_values('damped_mean', ascending=False)\n"
   ]
  },
  {
   "cell_type": "code",
   "execution_count": 4,
   "id": "4ce001c6",
   "metadata": {},
   "outputs": [],
   "source": [
    "def top_n_damped_recommendations(item_stats, n=10):\n",
    "    return item_stats.sort_values('damped_mean', ascending=False).head(n)\n"
   ]
  },
  {
   "cell_type": "code",
   "execution_count": 6,
   "id": "d0c8243b",
   "metadata": {},
   "outputs": [],
   "source": [
    "itm_sts = compute_damped_mean(ratings)"
   ]
  },
  {
   "cell_type": "code",
   "execution_count": 7,
   "id": "042abb3c",
   "metadata": {},
   "outputs": [
    {
     "data": {
      "text/html": [
       "<div>\n",
       "<style scoped>\n",
       "    .dataframe tbody tr th:only-of-type {\n",
       "        vertical-align: middle;\n",
       "    }\n",
       "\n",
       "    .dataframe tbody tr th {\n",
       "        vertical-align: top;\n",
       "    }\n",
       "\n",
       "    .dataframe thead th {\n",
       "        text-align: right;\n",
       "    }\n",
       "</style>\n",
       "<table border=\"1\" class=\"dataframe\">\n",
       "  <thead>\n",
       "    <tr style=\"text-align: right;\">\n",
       "      <th></th>\n",
       "      <th>damped_mean</th>\n",
       "    </tr>\n",
       "    <tr>\n",
       "      <th>book_id</th>\n",
       "      <th></th>\n",
       "    </tr>\n",
       "  </thead>\n",
       "  <tbody>\n",
       "    <tr>\n",
       "      <th>3628</th>\n",
       "      <td>4.820533</td>\n",
       "    </tr>\n",
       "    <tr>\n",
       "      <th>7947</th>\n",
       "      <td>4.769885</td>\n",
       "    </tr>\n",
       "    <tr>\n",
       "      <th>6920</th>\n",
       "      <td>4.747029</td>\n",
       "    </tr>\n",
       "    <tr>\n",
       "      <th>6361</th>\n",
       "      <td>4.744774</td>\n",
       "    </tr>\n",
       "    <tr>\n",
       "      <th>9566</th>\n",
       "      <td>4.740785</td>\n",
       "    </tr>\n",
       "    <tr>\n",
       "      <th>6590</th>\n",
       "      <td>4.740320</td>\n",
       "    </tr>\n",
       "    <tr>\n",
       "      <th>8978</th>\n",
       "      <td>4.738118</td>\n",
       "    </tr>\n",
       "    <tr>\n",
       "      <th>4483</th>\n",
       "      <td>4.736759</td>\n",
       "    </tr>\n",
       "    <tr>\n",
       "      <th>3275</th>\n",
       "      <td>4.722756</td>\n",
       "    </tr>\n",
       "    <tr>\n",
       "      <th>1788</th>\n",
       "      <td>4.722373</td>\n",
       "    </tr>\n",
       "  </tbody>\n",
       "</table>\n",
       "</div>"
      ],
      "text/plain": [
       "         damped_mean\n",
       "book_id             \n",
       "3628        4.820533\n",
       "7947        4.769885\n",
       "6920        4.747029\n",
       "6361        4.744774\n",
       "9566        4.740785\n",
       "6590        4.740320\n",
       "8978        4.738118\n",
       "4483        4.736759\n",
       "3275        4.722756\n",
       "1788        4.722373"
      ]
     },
     "execution_count": 7,
     "metadata": {},
     "output_type": "execute_result"
    }
   ],
   "source": [
    "top_n_damped_recommendations(itm_sts)"
   ]
  },
  {
   "cell_type": "code",
   "execution_count": 9,
   "id": "2e81c0a8",
   "metadata": {},
   "outputs": [],
   "source": [
    "from mlxtend.frequent_patterns import apriori, association_rules\n",
    "from mlxtend.preprocessing import TransactionEncoder"
   ]
  },
  {
   "cell_type": "code",
   "execution_count": null,
   "id": "45930895",
   "metadata": {},
   "outputs": [],
   "source": [
    "transactions = ratings.groupby('user_id')['book_id'].apply(list).tolist()\n",
    "\n",
    "te = TransactionEncoder()\n",
    "te_ary = te.fit(transactions).transform(transactions)\n",
    "df = pd.DataFrame(te_ary, columns=te.columns_)\n",
    "\n",
    "frequent_itemsets = apriori(df, min_support=0.2, use_colnames=True)\n",
    "rules = association_rules(frequent_itemsets, metric=\"lift\", min_threshold=1.0)\n"
   ]
  },
  {
   "cell_type": "code",
   "execution_count": 12,
   "id": "fd91b9b6",
   "metadata": {},
   "outputs": [],
   "source": [
    "def recommend_from_rules(product_id, rules_df, n=10):\n",
    "    recommendations = rules_df[rules_df['antecedents'].apply(lambda x: product_id in x)]\n",
    "    recommendations = recommendations.sort_values('lift', ascending=False)\n",
    "    \n",
    "    result = set()\n",
    "    for _, row in recommendations.iterrows():\n",
    "        consequents = row['consequents']\n",
    "        result.update(consequents)\n",
    "        if len(result) >= n:\n",
    "            break\n",
    "    return list(result)[:n]"
   ]
  },
  {
   "cell_type": "code",
   "execution_count": 14,
   "id": "ffe94e91",
   "metadata": {},
   "outputs": [
    {
     "data": {
      "text/plain": [
       "[17, 2, 3, 20]"
      ]
     },
     "execution_count": 14,
     "metadata": {},
     "output_type": "execute_result"
    }
   ],
   "source": [
    "recommend_from_rules(1,rules)"
   ]
  },
  {
   "cell_type": "code",
   "execution_count": 15,
   "id": "95e548eb",
   "metadata": {},
   "outputs": [],
   "source": [
    "def precision_at_n(recommended, relevant, n=10):\n",
    "    recommended_n = recommended[:n]\n",
    "    return len(set(recommended_n) & set(relevant)) / n\n",
    "\n",
    "def recall_at_n(recommended, relevant, n=10):\n",
    "    recommended_n = recommended[:n]\n",
    "    return len(set(recommended_n) & set(relevant)) / len(relevant)\n"
   ]
  },
  {
   "cell_type": "code",
   "execution_count": null,
   "id": "d10a5c8b",
   "metadata": {},
   "outputs": [
    {
     "name": "stdout",
     "output_type": "stream",
     "text": [
      "Precision: 0.60\n",
      "Recall: 0.03\n"
     ]
    }
   ],
   "source": [
    "user_id = ratings['user_id'].value_counts().idxmax()\n",
    "user_books = ratings[ratings['user_id'] == user_id]['book_id'].tolist()\n",
    "\n",
    "target_book = user_books[0]\n",
    "recommended_books = recommend_from_rules(target_book, rules, n=10)\n",
    "\n",
    "precision = precision_at_n(recommended_books, user_books, n=10)\n",
    "recall = recall_at_n(recommended_books, user_books, n=10)\n",
    "\n",
    "print(f\"Precision: {precision:.2f}\")\n",
    "print(f\"Recall: {recall:.2f}\")\n"
   ]
  }
 ],
 "metadata": {
  "kernelspec": {
   "display_name": "venv",
   "language": "python",
   "name": "python3"
  },
  "language_info": {
   "codemirror_mode": {
    "name": "ipython",
    "version": 3
   },
   "file_extension": ".py",
   "mimetype": "text/x-python",
   "name": "python",
   "nbconvert_exporter": "python",
   "pygments_lexer": "ipython3",
   "version": "3.11.5"
  }
 },
 "nbformat": 4,
 "nbformat_minor": 5
}
