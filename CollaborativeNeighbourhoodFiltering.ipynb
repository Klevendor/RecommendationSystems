{
 "cells": [
  {
   "cell_type": "code",
   "execution_count": 1,
   "id": "36c5124e",
   "metadata": {},
   "outputs": [],
   "source": [
    "import pandas as pd\n",
    "import numpy as np\n",
    "from sklearn.metrics.pairwise import cosine_similarity\n",
    "from sklearn.model_selection import train_test_split\n",
    "from scipy.sparse import csr_matrix\n"
   ]
  },
  {
   "cell_type": "code",
   "execution_count": 5,
   "id": "30230759",
   "metadata": {},
   "outputs": [
    {
     "data": {
      "text/html": [
       "<div>\n",
       "<style scoped>\n",
       "    .dataframe tbody tr th:only-of-type {\n",
       "        vertical-align: middle;\n",
       "    }\n",
       "\n",
       "    .dataframe tbody tr th {\n",
       "        vertical-align: top;\n",
       "    }\n",
       "\n",
       "    .dataframe thead th {\n",
       "        text-align: right;\n",
       "    }\n",
       "</style>\n",
       "<table border=\"1\" class=\"dataframe\">\n",
       "  <thead>\n",
       "    <tr style=\"text-align: right;\">\n",
       "      <th></th>\n",
       "      <th>user_id</th>\n",
       "      <th>book_id</th>\n",
       "      <th>rating</th>\n",
       "    </tr>\n",
       "  </thead>\n",
       "  <tbody>\n",
       "    <tr>\n",
       "      <th>0</th>\n",
       "      <td>1</td>\n",
       "      <td>258</td>\n",
       "      <td>5</td>\n",
       "    </tr>\n",
       "    <tr>\n",
       "      <th>1</th>\n",
       "      <td>2</td>\n",
       "      <td>4081</td>\n",
       "      <td>4</td>\n",
       "    </tr>\n",
       "    <tr>\n",
       "      <th>2</th>\n",
       "      <td>2</td>\n",
       "      <td>260</td>\n",
       "      <td>5</td>\n",
       "    </tr>\n",
       "    <tr>\n",
       "      <th>3</th>\n",
       "      <td>2</td>\n",
       "      <td>9296</td>\n",
       "      <td>5</td>\n",
       "    </tr>\n",
       "    <tr>\n",
       "      <th>4</th>\n",
       "      <td>2</td>\n",
       "      <td>2318</td>\n",
       "      <td>3</td>\n",
       "    </tr>\n",
       "  </tbody>\n",
       "</table>\n",
       "</div>"
      ],
      "text/plain": [
       "   user_id  book_id  rating\n",
       "0        1      258       5\n",
       "1        2     4081       4\n",
       "2        2      260       5\n",
       "3        2     9296       5\n",
       "4        2     2318       3"
      ]
     },
     "execution_count": 5,
     "metadata": {},
     "output_type": "execute_result"
    }
   ],
   "source": [
    "url = 'https://raw.githubusercontent.com/zygmuntz/goodbooks-10k/master/ratings.csv'\n",
    "ratings = pd.read_csv(url)\n",
    "\n",
    "ratings = ratings.head(3000)\n",
    "ratings.head()\n"
   ]
  },
  {
   "cell_type": "code",
   "execution_count": 6,
   "id": "1bbe340f",
   "metadata": {},
   "outputs": [],
   "source": [
    "# Побудова матриці користувачів і книг\n",
    "user_item_matrix = ratings.pivot_table(index='user_id', columns='book_id', values='rating')\n",
    "user_item_matrix.fillna(0, inplace=True)\n",
    "\n",
    "# Збережемо у форматі sparse\n",
    "sparse_matrix = csr_matrix(user_item_matrix.values)"
   ]
  },
  {
   "cell_type": "code",
   "execution_count": 7,
   "id": "12a94bc1",
   "metadata": {},
   "outputs": [],
   "source": [
    "user_similarity = cosine_similarity(sparse_matrix)\n",
    "user_similarity_df = pd.DataFrame(user_similarity, index=user_item_matrix.index, columns=user_item_matrix.index)"
   ]
  },
  {
   "cell_type": "code",
   "execution_count": 8,
   "id": "a00fdc15",
   "metadata": {},
   "outputs": [],
   "source": [
    "def get_user_based_recommendations(user_id, top_n=10):\n",
    "    if user_id not in user_similarity_df.index:\n",
    "        return []\n",
    "    \n",
    "    similar_users = user_similarity_df[user_id].drop(user_id).sort_values(ascending=False)\n",
    "    \n",
    "    # Зважені середні рейтинги на основі сусідів\n",
    "    weighted_ratings = np.dot(similar_users.values, user_item_matrix.loc[similar_users.index].values)\n",
    "    similarity_sums = np.array([np.abs(similar_users.values).sum()] * user_item_matrix.shape[1])\n",
    "    \n",
    "    prediction_scores = weighted_ratings / similarity_sums\n",
    "    predictions = pd.Series(prediction_scores, index=user_item_matrix.columns)\n",
    "    known_items = user_item_matrix.loc[user_id][user_item_matrix.loc[user_id] > 0].index\n",
    "    recommendations = predictions.drop(index=known_items).sort_values(ascending=False).head(top_n)\n",
    "    \n",
    "    return recommendations\n"
   ]
  },
  {
   "cell_type": "code",
   "execution_count": 9,
   "id": "43d8974a",
   "metadata": {},
   "outputs": [],
   "source": [
    "item_similarity = cosine_similarity(user_item_matrix.T)\n",
    "item_similarity_df = pd.DataFrame(item_similarity, index=user_item_matrix.columns, columns=user_item_matrix.columns)\n"
   ]
  },
  {
   "cell_type": "code",
   "execution_count": 10,
   "id": "795d2088",
   "metadata": {},
   "outputs": [],
   "source": [
    "def get_item_based_recommendations(user_id, top_n=10):\n",
    "    user_ratings = user_item_matrix.loc[user_id]\n",
    "    scores = pd.Series(0, index=user_item_matrix.columns)\n",
    "    \n",
    "    for book_id, rating in user_ratings.items():\n",
    "        if rating > 0:\n",
    "            scores += item_similarity_df[book_id] * rating\n",
    "    \n",
    "    scores = scores[user_ratings == 0]\n",
    "    \n",
    "    return scores.sort_values(ascending=False).head(top_n)\n"
   ]
  },
  {
   "cell_type": "code",
   "execution_count": 11,
   "id": "34b2191a",
   "metadata": {},
   "outputs": [
    {
     "name": "stdout",
     "output_type": "stream",
     "text": [
      "\n",
      "User-based рекомендації для користувача 1:\n",
      "book_id\n",
      "11     2.499633\n",
      "8      2.025971\n",
      "94     1.704583\n",
      "325    1.677042\n",
      "45     1.523114\n",
      "33     1.518361\n",
      "26     1.495014\n",
      "24     1.386060\n",
      "2      1.341543\n",
      "27     1.281687\n",
      "dtype: float64\n",
      "\n",
      "Item-based рекомендації для користувача 1:\n",
      "book_id\n",
      "2079    5.437404\n",
      "3560    5.005537\n",
      "3703    4.521320\n",
      "6944    4.521320\n",
      "9606    4.521320\n",
      "1853    4.521320\n",
      "2559    4.521320\n",
      "522     4.521320\n",
      "325     4.412428\n",
      "233     3.364760\n",
      "dtype: float64\n"
     ]
    }
   ],
   "source": [
    "sample_user = user_item_matrix.index[0]\n",
    "\n",
    "print(f\"\\nUser-based рекомендації для користувача {sample_user}:\")\n",
    "print(get_user_based_recommendations(sample_user))\n",
    "\n",
    "print(f\"\\nItem-based рекомендації для користувача {sample_user}:\")\n",
    "print(get_item_based_recommendations(sample_user))\n"
   ]
  }
 ],
 "metadata": {
  "kernelspec": {
   "display_name": "venv",
   "language": "python",
   "name": "python3"
  },
  "language_info": {
   "codemirror_mode": {
    "name": "ipython",
    "version": 3
   },
   "file_extension": ".py",
   "mimetype": "text/x-python",
   "name": "python",
   "nbconvert_exporter": "python",
   "pygments_lexer": "ipython3",
   "version": "3.11.5"
  }
 },
 "nbformat": 4,
 "nbformat_minor": 5
}
